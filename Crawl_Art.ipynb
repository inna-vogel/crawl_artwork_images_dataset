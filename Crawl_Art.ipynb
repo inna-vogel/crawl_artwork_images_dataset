{
 "cells": [
  {
   "cell_type": "markdown",
   "metadata": {},
   "source": [
    "# Art UK\n",
    "# Crawl 243,959 artworks "
   ]
  },
  {
   "cell_type": "markdown",
   "metadata": {},
   "source": [
    "### All artworks were crawled from the webpage: https://artuk.org/"
   ]
  },
  {
   "cell_type": "markdown",
   "metadata": {},
   "source": [
    "<img src=\"uk_art.PNG\" style=\"width: 500px;\"/>"
   ]
  },
  {
   "cell_type": "markdown",
   "metadata": {},
   "source": [
    "### Load libraries "
   ]
  },
  {
   "cell_type": "code",
   "execution_count": 1,
   "metadata": {},
   "outputs": [],
   "source": [
    "import io\n",
    "import requests \n",
    "import lxml.html\n",
    "import urllib\n",
    "import re"
   ]
  },
  {
   "cell_type": "markdown",
   "metadata": {},
   "source": [
    "### URL to start crawling Website"
   ]
  },
  {
   "cell_type": "code",
   "execution_count": 2,
   "metadata": {},
   "outputs": [],
   "source": [
    "url_to_art_webpage = \"https://artuk.org/discover/artworks/ss-james-hogg-57651/view_as/grid/search/licence:1cc/page/1\""
   ]
  },
  {
   "cell_type": "markdown",
   "metadata": {},
   "source": [
    "### Method to read HTML of Website "
   ]
  },
  {
   "cell_type": "code",
   "execution_count": 3,
   "metadata": {},
   "outputs": [],
   "source": [
    "def read_html(url):\n",
    "    source_code = requests.get(url) \n",
    "    html_elements = lxml.html.fromstring(source_code.content) \n",
    "    return html_elements"
   ]
  },
  {
   "cell_type": "markdown",
   "metadata": {},
   "source": [
    "# Place below the path to the folder you want the artwork to be saved."
   ]
  },
  {
   "cell_type": "code",
   "execution_count": 5,
   "metadata": {},
   "outputs": [],
   "source": [
    "folder = r\".\\Art\""
   ]
  },
  {
   "cell_type": "markdown",
   "metadata": {},
   "source": [
    "### Test here the path to the image you want to be crawled"
   ]
  },
  {
   "cell_type": "code",
   "execution_count": 6,
   "metadata": {},
   "outputs": [
    {
     "name": "stdout",
     "output_type": "stream",
     "text": [
      "https://d3d00swyhr67nd.cloudfront.net/w944h944/collection/NTV/KIH/NTV_KIH_52-001.jpg\n"
     ]
    }
   ],
   "source": [
    "read_art_html = read_html(url_to_art_webpage) \n",
    "path_to_image = \"//div[@class='single_img']/img/@src\"\n",
    "url_to_artwork = \"\".join(read_art_html.xpath(path_to_image))\n",
    "\n",
    "print(url_to_artwork)"
   ]
  },
  {
   "cell_type": "markdown",
   "metadata": {},
   "source": [
    "### Test here:\n",
    "- Name of artist\n",
    "- Name of art peace\n",
    "- Name of the gallery the artpeace is located\n",
    "\n",
    "--> This is needed for the file name of the image: __name of artist_name of artwork_name of gallery.jpg__"
   ]
  },
  {
   "cell_type": "code",
   "execution_count": 7,
   "metadata": {},
   "outputs": [
    {
     "name": "stdout",
     "output_type": "stream",
     "text": [
      "['unknown', 'artist']\n",
      "SS 'James Hogg'* \n",
      " Kirkleatham Museum \n"
     ]
    }
   ],
   "source": [
    "read_art_html = read_html(url_to_art_webpage)\n",
    "\n",
    "#test here name of artist\n",
    "name_of_artist = read_art_html.xpath(\"//h2[@class='artist']/a[@href]/text()\")\n",
    "name_of_artist_cleaned = \" \".join(re.split(\"\\s+\", \"\".join(name_of_artist), flags=re.UNICODE))\n",
    "#print(name_of_artist_cleaned)\n",
    "print(re.sub(r'[^a-zA-Z ]', '', name_of_artist_cleaned).split())\n",
    "\n",
    "#test here name of arwork\n",
    "name_artwork = \"\".join(read_art_html.xpath(\"//h1[@class='artwork-title']/text()\")) \n",
    "name_artwork_cleaned = \" \".join(re.split(\"\\s+\", \"\".join(name_artwork), flags=re.UNICODE))\n",
    "print(name_artwork_cleaned)\n",
    "\n",
    "#test here name of gallery\n",
    "name_gallery = \"\".join(read_art_html.xpath(\"//h3[@class='venue']/a[@href]/text()\"))\n",
    "name_gallery_cleaned = \" \".join(re.split(\"\\s+\", \"\".join(name_gallery), flags=re.UNICODE))\n",
    "print(name_gallery_cleaned)"
   ]
  },
  {
   "cell_type": "markdown",
   "metadata": {},
   "source": [
    "### Test here if you are able to download a single image"
   ]
  },
  {
   "cell_type": "code",
   "execution_count": null,
   "metadata": {},
   "outputs": [],
   "source": [
    "#urllib.request.urlretrieve(url_to_artwork, folder + \"\\\\test_image.jpg\")"
   ]
  },
  {
   "cell_type": "markdown",
   "metadata": {},
   "source": [
    "### Test here if you are able to access the next page"
   ]
  },
  {
   "cell_type": "code",
   "execution_count": 8,
   "metadata": {},
   "outputs": [
    {
     "name": "stdout",
     "output_type": "stream",
     "text": [
      "https://artuk.org/discover/artworks/right-honourable-w-w-b-beach-mp-grand-master-18661869-144790/view_as/grid/search/licence:1cc/page/1\n"
     ]
    }
   ],
   "source": [
    "next_artwork = \"\".join(read_art_html.xpath(\"//a[@title='Next artwork']/@href\"))\n",
    "print(next_artwork)"
   ]
  },
  {
   "cell_type": "code",
   "execution_count": 9,
   "metadata": {},
   "outputs": [
    {
     "name": "stdout",
     "output_type": "stream",
     "text": [
      "https://d3d00swyhr67nd.cloudfront.net/w944h944/collection/MER/VGM/MER_VGM_328-001.jpg\n"
     ]
    }
   ],
   "source": [
    "test_url = \"https://artuk.org/discover/artworks/intensified-surface-with-forms-66556/view_as/list/page/75\"\n",
    "read_url = read_html(test_url)\n",
    "url_to_artwork = \"\".join(read_url.xpath(\"//div[@class='single_img']/img/@src\")[0])\n",
    "name_artwork = \"\".join(read_url.xpath(\"//h1[@class='artwork-title']/text()\")) \n",
    "name_artwork_cleaned = \" \".join(re.split(\"\\s+\", \"\".join(name_artwork), flags=re.UNICODE))\n",
    "name_artwork_cleaned = re.sub('[^A-Za-z0-9().,–`'']+', ' ', name_artwork_cleaned)\n",
    "print(url_to_artwork)"
   ]
  },
  {
   "cell_type": "markdown",
   "metadata": {},
   "source": [
    "### Bring it all together and start crawling an awesome dataset :-)\n",
    "\n",
    "#### If an error occurs, you can skip one image by placing the URL of the next page"
   ]
  },
  {
   "cell_type": "code",
   "execution_count": null,
   "metadata": {},
   "outputs": [],
   "source": [
    "\n",
    "def crawl_all_artworks(url):\n",
    "    count_urls = 0 \n",
    "    \n",
    "    while url:   \n",
    "        print(url) #check if url to website is accessible \n",
    "        read_url = read_html(url)\n",
    "        \n",
    "        try: \n",
    "                url_to_artwork = \"\".join(read_url.xpath(\"//div[@class='single_img']/img/@src\")[0])\n",
    "\n",
    "                count_urls += 1 \n",
    "                print(count_urls)\n",
    "\n",
    "                # check if whitespace in URL if so, replace with \"%20\"\n",
    "                if re.search(r\"\\s\", url_to_artwork):\n",
    "                    url_to_artwork = url_to_artwork.replace(' ', '%20')\n",
    "                print(url_to_artwork) #check if url to download the image is accessible \n",
    "                \n",
    "                #*******************************************************************************************    \n",
    "                name_of_artist = read_url.xpath(\"//h2[@class='artist']/a[@href]/text()\")\n",
    "                name_of_artist_cleaned = \" \".join(re.split(\"\\s+\", \"\".join(name_of_artist), flags=re.UNICODE))\n",
    "                name_of_artist_cleaned = re.sub('[^A-Za-z0-9().,–`'']+', ' ', name_of_artist_cleaned)        \n",
    "                #print(name_of_artist_cleaned) \n",
    "\n",
    "                name_artwork = \"\".join(read_url.xpath(\"//h1[@class='artwork-title']/text()\")) \n",
    "                name_artwork_cleaned = \" \".join(re.split(\"\\s+\", \"\".join(name_artwork), flags=re.UNICODE))\n",
    "                name_artwork_cleaned = re.sub('[^A-Za-z0-9().,–`'']+', ' ', name_artwork_cleaned)\n",
    "                #print(name_artwork_cleaned)\n",
    "\n",
    "                name_gallery = \"\".join(read_url.xpath(\"//h3[@class='venue']/a[@href]/text()\"))\n",
    "                name_gallery_cleaned = \" \".join(re.split(\"\\s+\", \"\".join(name_gallery), flags=re.UNICODE))\n",
    "                name_gallery_cleaned = re.sub('[^A-Za-z0-9().,–`'']+', ' ', name_gallery_cleaned)                                                                        \n",
    "                #print(name_gallery_cleaned)\n",
    "                #*******************************************************************************************\n",
    "                \n",
    "                # Download Images with a file name which sonsists of name of artist, name of artwork and location of artwork in UK\n",
    "                urllib.request.urlretrieve(url_to_artwork, folder + \"\\\\\" + name_of_artist_cleaned[0:70] + \"_\" + name_artwork_cleaned[0:50] + \"_\" +  name_gallery_cleaned[0:80] + \".jpg\")\n",
    "        \n",
    "                # Check if path name is correct\n",
    "                print(folder + \"\\\\\" + name_of_artist_cleaned + \"_\" + name_artwork_cleaned + \"_\" +  name_gallery_cleaned + \".jpg\")\n",
    "\n",
    "            \n",
    "        except IndexError:\n",
    "            pass          \n",
    "\n",
    "        \n",
    "        # URL to next page\n",
    "        next_page_url = \"\".join(read_url.xpath(\"//nav[@class='next']/a[@title='Next artwork']/@href\"))\n",
    "        \n",
    "       \n",
    "        # if a next page is available, keep on crawling, else end of crawling\n",
    "        url = next_page_url if next_page_url else None\n",
    "        \n",
    "\n",
    "crawl_all_artworks(url_to_art_webpage)\n",
    "\n",
    "print(\"All Done!\")"
   ]
  },
  {
   "cell_type": "markdown",
   "metadata": {},
   "source": [
    "# Great Job! Enjoy Great Art!"
   ]
  }
 ],
 "metadata": {
  "kernelspec": {
   "display_name": "Python 3",
   "language": "python",
   "name": "python3"
  },
  "language_info": {
   "codemirror_mode": {
    "name": "ipython",
    "version": 3
   },
   "file_extension": ".py",
   "mimetype": "text/x-python",
   "name": "python",
   "nbconvert_exporter": "python",
   "pygments_lexer": "ipython3",
   "version": "3.7.1"
  }
 },
 "nbformat": 4,
 "nbformat_minor": 2
}
